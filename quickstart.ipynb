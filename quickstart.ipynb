{
 "cells": [
  {
   "cell_type": "markdown",
   "id": "c17133d9-aa3d-4f60-becf-c22affb3d966",
   "metadata": {},
   "source": [
    "# 1.roles"
   ]
  },
  {
   "cell_type": "code",
   "execution_count": null,
   "id": "8c2ae555-4e65-4ebb-926f-825f4370ef7b",
   "metadata": {},
   "outputs": [],
   "source": []
  },
  {
   "cell_type": "markdown",
   "id": "205baa5d-3c15-4b4d-adc1-5e473bb77199",
   "metadata": {},
   "source": [
    "# 2. prompt"
   ]
  },
  {
   "cell_type": "code",
   "execution_count": null,
   "id": "05b546ef-5024-4e9b-b33f-00634a32b6e0",
   "metadata": {},
   "outputs": [],
   "source": []
  },
  {
   "cell_type": "markdown",
   "id": "9260c686-8c3b-4884-a475-c4033205be4a",
   "metadata": {},
   "source": [
    "# 3.models"
   ]
  },
  {
   "cell_type": "code",
   "execution_count": null,
   "id": "2040c50e-ca46-4b39-9970-7ae6bab91011",
   "metadata": {},
   "outputs": [],
   "source": []
  },
  {
   "cell_type": "markdown",
   "id": "1f3736fb-182c-48f6-8165-e87cf334f110",
   "metadata": {},
   "source": [
    "# 4. memory"
   ]
  },
  {
   "cell_type": "code",
   "execution_count": null,
   "id": "23c495b8-4194-421e-ba10-aeeb7fa46248",
   "metadata": {},
   "outputs": [],
   "source": []
  },
  {
   "cell_type": "markdown",
   "id": "aef53d73-f740-4271-a1ff-caf8b453c5e2",
   "metadata": {},
   "source": [
    "# 5. chains"
   ]
  },
  {
   "cell_type": "code",
   "execution_count": null,
   "id": "c1fe794b-ce31-41b6-b2d9-ca15ddf408e6",
   "metadata": {},
   "outputs": [],
   "source": []
  },
  {
   "cell_type": "markdown",
   "id": "2f99eb1d-6672-4438-8f1a-7d8b689cadcd",
   "metadata": {},
   "source": [
    "# 6. indexes"
   ]
  },
  {
   "cell_type": "code",
   "execution_count": null,
   "id": "2be4898e-cce2-410d-a62d-3c393c942283",
   "metadata": {},
   "outputs": [],
   "source": []
  },
  {
   "cell_type": "markdown",
   "id": "63c9417e-eef2-4e6a-84c8-9406ed156931",
   "metadata": {},
   "source": [
    "# 7. functions"
   ]
  },
  {
   "cell_type": "code",
   "execution_count": null,
   "id": "7010223a-8df1-42b8-9a4f-0e52a8f9c5f0",
   "metadata": {},
   "outputs": [],
   "source": []
  },
  {
   "cell_type": "markdown",
   "id": "a852ebff-7387-411c-bb15-e79fee052329",
   "metadata": {},
   "source": [
    "# 8. tools"
   ]
  },
  {
   "cell_type": "code",
   "execution_count": null,
   "id": "8b373d3d-b04b-4cc2-8f40-9ef5a24725d7",
   "metadata": {},
   "outputs": [],
   "source": []
  },
  {
   "cell_type": "markdown",
   "id": "89390eb5-f5e4-4e58-9112-b2d12ffffbef",
   "metadata": {},
   "source": [
    "# 9. agents"
   ]
  },
  {
   "cell_type": "code",
   "execution_count": null,
   "id": "084b0318-5771-4f95-9ea3-b2c6a6b27c50",
   "metadata": {},
   "outputs": [],
   "source": []
  },
  {
   "cell_type": "markdown",
   "id": "893a3714-9c18-47fd-ab09-9e485f3db7c4",
   "metadata": {},
   "source": [
    "# 10. loader\n",
    "- Text ->\n",
    "- CSV -> `CSVLoader`\n",
    "- PDF -> `PyPDFLoader`\n",
    "- Youtube -> `GenericLoader`\n",
    "- URLs -> `WebBaseLoader`\n",
    "- Notion -> `NotionDirectoryLoader`"
   ]
  },
  {
   "cell_type": "code",
   "execution_count": null,
   "id": "44ddb0e4-db23-42df-ba48-661e3700ecca",
   "metadata": {},
   "outputs": [],
   "source": []
  },
  {
   "cell_type": "markdown",
   "id": "e806f115-9067-4c2c-a110-bef9b40b7ba8",
   "metadata": {},
   "source": [
    "# 11. splitter"
   ]
  },
  {
   "cell_type": "code",
   "execution_count": null,
   "id": "87d0588d-c414-4821-b293-87568fccfc8b",
   "metadata": {},
   "outputs": [],
   "source": []
  },
  {
   "cell_type": "markdown",
   "id": "51d463c2-76a7-4156-bd97-f76bc3af9391",
   "metadata": {},
   "source": [
    "# 12. retriever\n",
    "- `SelfQueryRetriever`\n",
    "- `ContextualCompressionRetriever`\n",
    "- `SVMRetriever`\n",
    "- `TFIDRetriever`"
   ]
  },
  {
   "cell_type": "code",
   "execution_count": null,
   "id": "d73b18dd-a59c-4d7f-8723-92c05b8a13cc",
   "metadata": {},
   "outputs": [],
   "source": []
  }
 ],
 "metadata": {
  "kernelspec": {
   "display_name": "Python 3 (ipykernel)",
   "language": "python",
   "name": "python3"
  },
  "language_info": {
   "codemirror_mode": {
    "name": "ipython",
    "version": 3
   },
   "file_extension": ".py",
   "mimetype": "text/x-python",
   "name": "python",
   "nbconvert_exporter": "python",
   "pygments_lexer": "ipython3",
   "version": "3.8.19"
  }
 },
 "nbformat": 4,
 "nbformat_minor": 5
}
