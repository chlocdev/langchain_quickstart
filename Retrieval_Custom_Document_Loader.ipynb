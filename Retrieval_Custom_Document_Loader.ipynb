{
 "cells": [
  {
   "cell_type": "code",
   "execution_count": 1,
   "id": "29dae6b4-1b8f-4a18-a3f1-5a79432681a4",
   "metadata": {},
   "outputs": [],
   "source": [
    "import os\n",
    "import getpass\n",
    "from langchain_openai import OpenAI\n",
    "\n",
    "# os.environ['OPENAI_API_KEY'] = getpass.getpass('OpenAI API Key:')\n",
    "\n",
    "OPENAI_API_KEY_PATH = \"/home/loc/Documents/keys/OPENAI_API_KEY.txt\"\n",
    "\n",
    "with open(OPENAI_API_KEY_PATH, 'r') as f:\n",
    "    OPENAI_API_KEY = f.read().strip()\n",
    "\n",
    "os.environ['OPENAI_API_KEY'] = OPENAI_API_KEY"
   ]
  },
  {
   "cell_type": "code",
   "execution_count": 2,
   "id": "e7dc32ce-2e41-44b5-a8cc-246b2a12a974",
   "metadata": {},
   "outputs": [],
   "source": [
    "# !pip install -q pypdf"
   ]
  },
  {
   "cell_type": "code",
   "execution_count": 3,
   "id": "bc68bd01-fdb0-4f5c-9b9c-b9d48be83ad3",
   "metadata": {},
   "outputs": [],
   "source": [
    "from langchain_community.document_loaders import PyPDFLoader"
   ]
  },
  {
   "cell_type": "code",
   "execution_count": 8,
   "id": "b6926239-3192-41e6-b2d5-b757fe87f20f",
   "metadata": {},
   "outputs": [
    {
     "name": "stdout",
     "output_type": "stream",
     "text": [
      "7\n"
     ]
    }
   ],
   "source": [
    "loader = PyPDFLoader(\"assets/jav_excercises-pages/jav_excercises-pages-1.pdf\")\n",
    "pages = loader.load_and_split()\n",
    "print(len(pages))"
   ]
  },
  {
   "cell_type": "code",
   "execution_count": 12,
   "id": "b4f4cfec-af0f-402d-b496-6f62c637f747",
   "metadata": {},
   "outputs": [
    {
     "data": {
      "text/plain": [
       "Document(metadata={'source': 'assets/jav_excercises-pages/jav_excercises-pages-1.pdf', 'page': 2}, page_content='MODULE 01, 02, 03 & 04\\n(Thực hành: 12 tiết, Tựhọc: 27 tiết)\\nChương III. GUI – IO TRONG JAVA\\nMục tiêu:\\n#Hiểu rõđược các khái niệm Containers, Components, Layout Manager, Events.\\n#Vận dụng thành thạo cácđối tượng giao diện chứa (containers) cácđối tượng khác trong\\nngôn ngữlập trình Java (JFrame, JApplet, JPanel)\\n#Vận dụng thành thạo cácđối tượng giao diện trong giao diện củaứng dụng (JLabel,\\nJButton, JCheckBox, JRadioButton, JTextField, JTextArea, JPasswordField)\\n#Hiểu rõđược khái niệm kiểm soát sựkiện (event handling) trong ngôn ngữlập trình Java.\\n#Nắmđược mô hìnhủy thác sựkiện (event delegation model) và các loại sựkiện (event)\\ntrong ngôn ngữlập trình Java.\\n#Sửdụng thành thạo các thành phần giao diện (JScrollPane, JSlider, JProgressBar,\\nJFormattedTextField, JEditorPane) cácđối tượng hộp thoại (JOptionPane, InputDialog,\\nOptionDialog, JDialog) trong ngôn ngữlập trình Java.\\n#Sửdụng thành thạo cácđối tượng thiết kếthựcđơn (menu) cho giao diệnứng dụng\\n(JMenuBar, JMenu, JMenuItem, JCheckBoxMenuItem, JRadioButtonMenuItem,\\nJPopupMenu, JToolBar).\\n#Vận dụng thành thạo các khái niệm vềluồng nhập xuất và sựtuần tựhóađối tượng\\n(serializable) trong ngôn ngữlập trình Java.\\nBài Tập 1.Thực hành containers – Hiển thịJFrame\\npackage demo.gui;\\nimport javax.swing.JFrame;\\npublic class DemoJFrame extends JFrame{\\npublic DemoJFrame() {\\nsetTitle( \"Demo JFrame\" );//TiêuđềJFrame\\nsetSize(300, 200); //Kích thước của JFrame\\nsetDefaultCloseOperation( EXIT_ON_CLOSE );//Thoát chương trình khi click nút exit\\nsetLocationRelativeTo( null );//Canh giữa màn hình\\nsetResizable( false );//không cho phép thayđổi kích thước JFrame\\n//các thuộc tính khác JFrame\\n}\\npublic static void main(String[] args) {\\nnew DemoJFrame().setVisible( true );//Hiển thịJFrame\\n}\\n}\\nBài Tập 2.Thực hành containers – Hiển thịJDialogs\\npackage demo.gui;\\nimport javax.swing.JDialog;\\npublic class DemoJDialog extends JDialog{\\npublic DemoJDialog() {\\nsetTitle( \"Demo JDialog\" );//Tiêuđềcủa hộp thoại JDialog\\nsetDefaultCloseOperation( DISPOSE_ON_CLOSE );//Đóng hộp thoại\\nsetSize(300, 200);\\nsetResizable( false );\\n//Các thuộc tính khác\\n}')"
      ]
     },
     "execution_count": 12,
     "metadata": {},
     "output_type": "execute_result"
    }
   ],
   "source": [
    "pages[2]"
   ]
  },
  {
   "cell_type": "code",
   "execution_count": 13,
   "id": "24b0a042-9282-471e-a968-3f78ea93d89a",
   "metadata": {},
   "outputs": [
    {
     "data": {
      "text/plain": [
       "'MODULE 01, 02, 03 & 04\\n(Thực hành: 12 tiết, Tựhọc: 27 tiết)\\nChương III. GUI – IO TRONG JAVA\\nMục tiêu:\\n#Hiểu rõđược các khái niệm Containers, Components, Layout Manager, Events.\\n#Vận dụng thành thạo cácđối tượng giao diện chứa (containers) cácđối tượng khác trong\\nngôn ngữlập trình Java (JFrame, JApplet, JPanel)\\n#Vận dụng thành thạo cácđối tượng giao diện trong giao diện củaứng dụng (JLabel,\\nJButton, JCheckBox, JRadioButton, JTextField, JTextArea, JPasswordField)\\n#Hiểu rõđược khái niệm kiểm soát sựkiện (event handling) trong ngôn ngữlập trình Java.\\n#Nắmđược mô hìnhủy thác sựkiện (event delegation model) và các loại sựkiện (event)\\ntrong ngôn ngữlập trình Java.\\n#Sửdụng thành thạo các thành phần giao diện (JScrollPane, JSlider, JProgressBar,\\nJFormattedTextField, JEditorPane) cácđối tượng hộp thoại (JOptionPane, InputDialog,\\nOptionDialog, JDialog) trong ngôn ngữlập trình Java.\\n#Sửdụng thành thạo cácđối tượng thiết kếthựcđơn (menu) cho giao diệnứng dụng\\n(JMenuBar, JMenu, JMenuItem, JCheckBoxMenuItem, JRadioButtonMenuItem,\\nJPopupMenu, JToolBar).\\n#Vận dụng thành thạo các khái niệm vềluồng nhập xuất và sựtuần tựhóađối tượng\\n(serializable) trong ngôn ngữlập trình Java.\\nBài Tập 1.Thực hành containers – Hiển thịJFrame\\npackage demo.gui;\\nimport javax.swing.JFrame;\\npublic class DemoJFrame extends JFrame{\\npublic DemoJFrame() {\\nsetTitle( \"Demo JFrame\" );//TiêuđềJFrame\\nsetSize(300, 200); //Kích thước của JFrame\\nsetDefaultCloseOperation( EXIT_ON_CLOSE );//Thoát chương trình khi click nút exit\\nsetLocationRelativeTo( null );//Canh giữa màn hình\\nsetResizable( false );//không cho phép thayđổi kích thước JFrame\\n//các thuộc tính khác JFrame\\n}\\npublic static void main(String[] args) {\\nnew DemoJFrame().setVisible( true );//Hiển thịJFrame\\n}\\n}\\nBài Tập 2.Thực hành containers – Hiển thịJDialogs\\npackage demo.gui;\\nimport javax.swing.JDialog;\\npublic class DemoJDialog extends JDialog{\\npublic DemoJDialog() {\\nsetTitle( \"Demo JDialog\" );//Tiêuđềcủa hộp thoại JDialog\\nsetDefaultCloseOperation( DISPOSE_ON_CLOSE );//Đóng hộp thoại\\nsetSize(300, 200);\\nsetResizable( false );\\n//Các thuộc tính khác\\n}'"
      ]
     },
     "execution_count": 13,
     "metadata": {},
     "output_type": "execute_result"
    }
   ],
   "source": [
    "pages[2].page_content"
   ]
  },
  {
   "cell_type": "markdown",
   "id": "f8ca22bb-ac74-4a1d-8a47-23874ecfc31c",
   "metadata": {},
   "source": [
    "# references\n",
    "\n",
    "https://stackoverflow.com/questions/490195/split-a-multi-page-pdf-file-into-multiple-pdf-files-with-python\n",
    "\n",
    "https://smallpdf.com/#r=app\n",
    "\n",
    "https://python.langchain.com/v0.1/docs/modules/data_connection/document_loaders/pdf/"
   ]
  }
 ],
 "metadata": {
  "kernelspec": {
   "display_name": "Python 3 (ipykernel)",
   "language": "python",
   "name": "python3"
  },
  "language_info": {
   "codemirror_mode": {
    "name": "ipython",
    "version": 3
   },
   "file_extension": ".py",
   "mimetype": "text/x-python",
   "name": "python",
   "nbconvert_exporter": "python",
   "pygments_lexer": "ipython3",
   "version": "3.8.19"
  }
 },
 "nbformat": 4,
 "nbformat_minor": 5
}
